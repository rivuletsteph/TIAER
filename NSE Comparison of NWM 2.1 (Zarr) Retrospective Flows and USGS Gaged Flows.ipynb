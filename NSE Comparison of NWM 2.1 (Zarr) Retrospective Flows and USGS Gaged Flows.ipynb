{
 "cells": [
  {
   "cell_type": "markdown",
   "id": "c2a89797",
   "metadata": {},
   "source": [
    "## Goal: NSE comparison of NWM streamflow to gaged streamflow at one location\n",
    "USGS Gage ID: 08076997 [Clear Ck at Mykawa St nr Pearland, TX](https://waterdata.usgs.gov/monitoring-location/08076997/?agency_cd=USGS#parameterCode=00065&period=P7D)(1979 to 2020)     \n",
    "NWM Reach ID: 1562342 (2006 to Present)"
   ]
  },
  {
   "cell_type": "markdown",
   "id": "aadcd5f3",
   "metadata": {},
   "source": [
    "*By Stephanie Brady and Emad Ahmed (TIAER @ Tarleton State University)*  \n",
    "Credits: [James McCreight](https://nbviewer.org/github/NCAR/rechunk_retro_nwm_v21/blob/main/notebooks/usage_example_streamflow_timeseries.ipynb)"
   ]
  },
  {
   "cell_type": "markdown",
   "id": "188304a7",
   "metadata": {},
   "source": [
    "Running in Anaconda Navigator, using the environment \"NWM_Zarr_v2.1.yaml\" (available in the TIAER repository)."
   ]
  },
  {
   "cell_type": "markdown",
   "id": "18147af6",
   "metadata": {},
   "source": [
    "First, import the required packages."
   ]
  },
  {
   "cell_type": "code",
   "execution_count": 1,
   "id": "b9a24b5b",
   "metadata": {},
   "outputs": [
    {
     "ename": "ImportError",
     "evalue": "dask.distributed is not installed.\n\nPlease either conda or pip install distributed:\n\n  conda install dask distributed             # either conda install\n  python -m pip install \"dask[distributed]\" --upgrade    # or pip install",
     "output_type": "error",
     "traceback": [
      "\u001b[1;31m---------------------------------------------------------------------------\u001b[0m",
      "\u001b[1;31mModuleNotFoundError\u001b[0m                       Traceback (most recent call last)",
      "File \u001b[1;32mC:\\ProgramData\\Anaconda3\\envs\\NSE_3913_v0\\lib\\site-packages\\dask\\distributed.py:11\u001b[0m\n\u001b[0;32m     10\u001b[0m \u001b[38;5;28;01mtry\u001b[39;00m:\n\u001b[1;32m---> 11\u001b[0m     \u001b[38;5;28;01mfrom\u001b[39;00m \u001b[38;5;21;01mdistributed\u001b[39;00m \u001b[38;5;28;01mimport\u001b[39;00m \u001b[38;5;241m*\u001b[39m\n\u001b[0;32m     12\u001b[0m \u001b[38;5;28;01mexcept\u001b[39;00m \u001b[38;5;167;01mImportError\u001b[39;00m \u001b[38;5;28;01mas\u001b[39;00m e:\n",
      "\u001b[1;31mModuleNotFoundError\u001b[0m: No module named 'distributed'",
      "\nThe above exception was the direct cause of the following exception:\n",
      "\u001b[1;31mImportError\u001b[0m                               Traceback (most recent call last)",
      "Cell \u001b[1;32mIn [1], line 2\u001b[0m\n\u001b[0;32m      1\u001b[0m \u001b[38;5;28;01mfrom\u001b[39;00m \u001b[38;5;21;01mclimata\u001b[39;00m\u001b[38;5;21;01m.\u001b[39;00m\u001b[38;5;21;01musgs\u001b[39;00m \u001b[38;5;28;01mimport\u001b[39;00m DailyValueIO\n\u001b[1;32m----> 2\u001b[0m \u001b[38;5;28;01mfrom\u001b[39;00m \u001b[38;5;21;01mdask\u001b[39;00m\u001b[38;5;21;01m.\u001b[39;00m\u001b[38;5;21;01mdistributed\u001b[39;00m \u001b[38;5;28;01mimport\u001b[39;00m Client\n\u001b[0;32m      3\u001b[0m \u001b[38;5;28;01mimport\u001b[39;00m \u001b[38;5;21;01mfsspec\u001b[39;00m\n\u001b[0;32m      4\u001b[0m \u001b[38;5;28;01mimport\u001b[39;00m \u001b[38;5;21;01mholoviews\u001b[39;00m \u001b[38;5;28;01mas\u001b[39;00m \u001b[38;5;21;01mhv\u001b[39;00m\n",
      "File \u001b[1;32mC:\\ProgramData\\Anaconda3\\envs\\NSE_3913_v0\\lib\\site-packages\\dask\\distributed.py:14\u001b[0m\n\u001b[0;32m     12\u001b[0m \u001b[38;5;28;01mexcept\u001b[39;00m \u001b[38;5;167;01mImportError\u001b[39;00m \u001b[38;5;28;01mas\u001b[39;00m e:\n\u001b[0;32m     13\u001b[0m     \u001b[38;5;28;01mif\u001b[39;00m e\u001b[38;5;241m.\u001b[39mmsg \u001b[38;5;241m==\u001b[39m \u001b[38;5;124m\"\u001b[39m\u001b[38;5;124mNo module named \u001b[39m\u001b[38;5;124m'\u001b[39m\u001b[38;5;124mdistributed\u001b[39m\u001b[38;5;124m'\u001b[39m\u001b[38;5;124m\"\u001b[39m:\n\u001b[1;32m---> 14\u001b[0m         \u001b[38;5;28;01mraise\u001b[39;00m \u001b[38;5;167;01mImportError\u001b[39;00m(_import_error_message) \u001b[38;5;28;01mfrom\u001b[39;00m \u001b[38;5;21;01me\u001b[39;00m\n\u001b[0;32m     15\u001b[0m     \u001b[38;5;28;01melse\u001b[39;00m:\n\u001b[0;32m     16\u001b[0m         \u001b[38;5;28;01mraise\u001b[39;00m\n",
      "\u001b[1;31mImportError\u001b[0m: dask.distributed is not installed.\n\nPlease either conda or pip install distributed:\n\n  conda install dask distributed             # either conda install\n  python -m pip install \"dask[distributed]\" --upgrade    # or pip install"
     ]
    }
   ],
   "source": [
    "from climata.usgs import DailyValueIO\n",
    "from dask.distributed import Client\n",
    "import fsspec\n",
    "import holoviews as hv\n",
    "import hvplot\n",
    "import hvplot.pandas\n",
    "import hvplot.xarray\n",
    "import numpy as np\n",
    "import pandas as pd \n",
    "import xarray as xr"
   ]
  },
  {
   "cell_type": "markdown",
   "id": "91bc7383",
   "metadata": {},
   "source": [
    "Setup Dask.distributed the [Easy Way](https://distributed.dask.org/en/stable/quickstart.html#setup-dask-distributed-the-easy-way)"
   ]
  },
  {
   "cell_type": "code",
   "execution_count": null,
   "id": "c2158bac",
   "metadata": {},
   "outputs": [],
   "source": [
    "from dask.distributed import Client, progress\n",
    "client = Client()\n",
    "client"
   ]
  },
  {
   "cell_type": "markdown",
   "id": "bf07c94d",
   "metadata": {},
   "source": [
    "## 1) Download flow data from the [NWM model output data version 2.1 in Zarr format](https://registry.opendata.aws/nwm-archive/)\n"
   ]
  },
  {
   "cell_type": "markdown",
   "id": "f671e738",
   "metadata": {},
   "source": [
    "Point to the AWS CLI (Amazon Web Services Command Line Interface) where the data is storred in Zarr format."
   ]
  },
  {
   "cell_type": "code",
   "execution_count": null,
   "id": "6e26d49b",
   "metadata": {},
   "outputs": [],
   "source": [
    "url = 's3://noaa-nwm-retrospective-2-1-zarr-pds/chrtout.zarr'"
   ]
  },
  {
   "cell_type": "markdown",
   "id": "c5ac0401",
   "metadata": {},
   "source": [
    "Print the [CPU Time and Wall Time](https://ipython.readthedocs.io/en/stable/interactive/magics.html?highlight=%25time#magic-time)   \n",
    "Load and decode a dataset from a Zarr store [source](https://docs.xarray.dev/en/stable/generated/xarray.open_zarr.html)"
   ]
  },
  {
   "cell_type": "code",
   "execution_count": null,
   "id": "eba36e85",
   "metadata": {},
   "outputs": [],
   "source": [
    "%%time\n",
    "ds = xr.open_zarr(fsspec.get_mapper(url, anon=True), consolidated=True)"
   ]
  },
  {
   "cell_type": "markdown",
   "id": "20678ec8",
   "metadata": {},
   "source": [
    "Print the dataset"
   ]
  },
  {
   "cell_type": "code",
   "execution_count": null,
   "id": "9a7f7433",
   "metadata": {},
   "outputs": [],
   "source": [
    "ds"
   ]
  },
  {
   "cell_type": "markdown",
   "id": "b74ab7f3",
   "metadata": {},
   "source": [
    "Identify what reach or reaches for which the NWM streamflows will be downloaded.     \n",
    "For this example, we are using the USGS Gage `Clear Ck at Mykawa St nr Pearland, TX`; the associated Reach ID was found using the [NWM Map](https://water.noaa.gov/map).<br>   \n",
    "For multiple reaches, use the syntax \"reaches = np.sort(np.array([x1,x2,...]))\"."
   ]
  },
  {
   "cell_type": "code",
   "execution_count": null,
   "id": "97959b31",
   "metadata": {},
   "outputs": [],
   "source": [
    "reach = np.sort(np.array([1562342]))"
   ]
  },
  {
   "cell_type": "markdown",
   "id": "7393c60c",
   "metadata": {},
   "source": [
    "Print the wall time.   \n",
    "Download the actual flows (most time-consuming step, takes about 9 mins on my computer)."
   ]
  },
  {
   "cell_type": "code",
   "execution_count": null,
   "id": "c97f6d68",
   "metadata": {},
   "outputs": [],
   "source": [
    "%%time\n",
    "dsflows = ds.streamflow.sel(feature_id=reach).compute()"
   ]
  },
  {
   "cell_type": "markdown",
   "id": "519bea2a",
   "metadata": {},
   "source": [
    "Convert the dataset array into a dataframe."
   ]
  },
  {
   "cell_type": "code",
   "execution_count": null,
   "id": "29cf027a",
   "metadata": {},
   "outputs": [],
   "source": [
    "streamflow_nwm_df= dsflows.to_pandas()"
   ]
  },
  {
   "cell_type": "markdown",
   "id": "53dff062",
   "metadata": {},
   "source": [
    "Print the dataframe header.Results are in cms."
   ]
  },
  {
   "cell_type": "code",
   "execution_count": null,
   "id": "cd98a7ec",
   "metadata": {},
   "outputs": [],
   "source": [
    "streamflow_nwm_df"
   ]
  },
  {
   "cell_type": "markdown",
   "id": "e08f29b7",
   "metadata": {},
   "source": [
    "Export the dataframe to a csv file. "
   ]
  },
  {
   "cell_type": "code",
   "execution_count": null,
   "id": "63d0a959",
   "metadata": {},
   "outputs": [],
   "source": [
    "streamflow_nwm_df.to_csv(r\"C:\\Users\\sbrady\\Downloads\\NwmRetro2-1ZarrFlows_Mykawa.csv\")"
   ]
  },
  {
   "cell_type": "markdown",
   "id": "079eb38b",
   "metadata": {},
   "source": [
    "## 2) Download streamflow data from the USGS"
   ]
  },
  {
   "cell_type": "code",
   "execution_count": null,
   "id": "4efe581c",
   "metadata": {},
   "outputs": [],
   "source": [
    "cfs_2_cms = 0.028316846592\n",
    "\n",
    "hv.extension('bokeh')\n",
    "hv.opts.defaults(\n",
    "    hv.opts.Scatter(width=700, height=500) )\n",
    "pd.options.plotting.backend = 'holoviews'\n"
   ]
  },
  {
   "cell_type": "code",
   "execution_count": null,
   "id": "bf9141be",
   "metadata": {},
   "outputs": [],
   "source": [
    "usgs_station_id = \"13317000\"\n",
    "param_id = \"00060\"  # streamflow in ft3/s\n",
    "data = DailyValueIO(\n",
    "    start_date=\"2016-01-01\",\n",
    "    end_date=\"2020-12-31\",\n",
    "    station=usgs_station_id,\n",
    "    parameter=param_id,)"
   ]
  },
  {
   "cell_type": "code",
   "execution_count": null,
   "id": "1e37a8e5",
   "metadata": {},
   "outputs": [],
   "source": [
    "# create lists of date-flow values\n",
    "streamflow_usgs_d = {}\n",
    "for series in data:\n",
    "    streamflow_usgs_d['streamflow_obs'] = [r[1] * cfs_2_cms for r in series.data]\n",
    "    streamflow_usgs_d['time'] = [pd.to_datetime(r[0]) for r in series.data]\n",
    "    \n",
    "streamflow_usgs_df = pd.DataFrame(streamflow_usgs_d).set_index('time')"
   ]
  },
  {
   "cell_type": "code",
   "execution_count": null,
   "id": "eb814dee",
   "metadata": {},
   "outputs": [],
   "source": [
    "streamflow_usgs_df.plot.scatter(x='time', y='streamflow_obs')"
   ]
  },
  {
   "cell_type": "markdown",
   "id": "fee74351",
   "metadata": {},
   "source": [
    "Combine Plots by water year"
   ]
  },
  {
   "cell_type": "code",
   "execution_count": null,
   "id": "f56024d5",
   "metadata": {},
   "outputs": [],
   "source": [
    "combo_df = (\n",
    "    streamflow_nwm_df\n",
    "    .join(streamflow_usgs_df, how='outer')\n",
    "    .rename(columns={'streamflow': 'NWM v2.1', 'streamflow_obs': 'observed'}))"
   ]
  },
  {
   "cell_type": "markdown",
   "id": "1a30bcfc",
   "metadata": {},
   "source": [
    "## 3)NSE"
   ]
  },
  {
   "cell_type": "code",
   "execution_count": null,
   "id": "7eadd649",
   "metadata": {},
   "outputs": [],
   "source": [
    "import hydroeval as he\n",
    "\n",
    "simulations = [5.3, 4.2, 5.7, 2.3]\n",
    "evaluations = [4.7, 4.3, 5.5, 2.7]\n",
    "\n",
    "nse = he.evaluator(he.nse, simulations, evaluations)\n",
    "nse"
   ]
  },
  {
   "cell_type": "code",
   "execution_count": null,
   "id": "5f2fcf14",
   "metadata": {},
   "outputs": [],
   "source": []
  }
 ],
 "metadata": {
  "kernelspec": {
   "display_name": "Python 3 (ipykernel)",
   "language": "python",
   "name": "python3"
  },
  "language_info": {
   "codemirror_mode": {
    "name": "ipython",
    "version": 3
   },
   "file_extension": ".py",
   "mimetype": "text/x-python",
   "name": "python",
   "nbconvert_exporter": "python",
   "pygments_lexer": "ipython3",
   "version": "3.9.13"
  }
 },
 "nbformat": 4,
 "nbformat_minor": 5
}
