{
  "cells": [
    {
      "cell_type": "markdown",
      "metadata": {
        "id": "view-in-github",
        "colab_type": "text"
      },
      "source": [
        "<a href=\"https://colab.research.google.com/github/rivuletsteph/TIAER/blob/main/streamflow.ipynb\" target=\"_parent\"><img src=\"https://colab.research.google.com/assets/colab-badge.svg\" alt=\"Open In Colab\"/></a>"
      ]
    },
    {
      "cell_type": "markdown",
      "metadata": {
        "id": "hwSIXUm9rrYF"
      },
      "source": [
        "Streamflow from the National Water Model CONUS Retrospective Dataset channel output files in Zarr format\n",
        "---\n",
        "By Stephanie Brady and Emad Ahmed  \n",
        "TIAER @ Tarleton State University    \n",
        "March 13, 2023"
      ]
    },
    {
      "cell_type": "markdown",
      "metadata": {
        "id": "Xt4GTtHFO7U7"
      },
      "source": [
        "Credits: \n",
        "\n",
        "[Rich Signell](https://github.com/rsignell-usgs)  \n",
        "[Explore the National Water Model Reanalysis](https://nbviewer.org/gist/rsignell-usgs/78a4ce00360c65bc99764aa3e88a2493)\n",
        "\n",
        "[James McCreight](https://github.com/jmccreight)  \n",
        "[NWM v2.1 Retrospective Zarr Usage Example\n",
        "](https://github.com/NCAR/rechunk_retro_nwm_v21/blob/main/notebooks/usage_example_streamflow_timeseries.ipynb)"
      ]
    },
    {
      "cell_type": "markdown",
      "metadata": {
        "id": "hyTQXFoGhDH0"
      },
      "source": [
        "The purpose of this notebook is to aquire National Water Model channel outputs ([NWM model output data version 2.1 in Zarr format](https://registry.opendata.aws/nwm-archive/)) for one reach, including:\n",
        "* streamflow = River Flow (m3 s-1)\n",
        "\n",
        "\n",
        "\n",
        "\n",
        "\n",
        "\n",
        "\n",
        "\n"
      ]
    },
    {
      "cell_type": "markdown",
      "metadata": {
        "id": "kIfNv0VZuer4"
      },
      "source": [
        "## To Begin\n",
        "Visit the [OWP National Water Model Interactive Map](https://water.noaa.gov/map).   \n",
        "This example will use ReachID `5512664`, which is the Brazos River near Glen Rose, Texas.   \n",
        "Coordinates: 32.2404, -97.7120 "
      ]
    },
    {
      "cell_type": "markdown",
      "metadata": {
        "id": "cdQF_vJUpYNr"
      },
      "source": [
        "Import Packages"
      ]
    },
    {
      "cell_type": "code",
      "execution_count": null,
      "metadata": {
        "id": "FsVZfeUpo_br"
      },
      "outputs": [],
      "source": [
        "!pip install s3fs\n",
        "!pip install zarr\n",
        "\n",
        "\n",
        "import os\n",
        "import pandas as pd\n",
        "import numpy as np\n",
        "import s3fs\n",
        "import zarr\n",
        "import fsspec\n",
        "import xarray as xr\n",
        "import plotly.graph_objects as go\n",
        "from plotly.subplots import make_subplots\n"
      ]
    },
    {
      "cell_type": "markdown",
      "source": [
        "Create notebook output folder"
      ],
      "metadata": {
        "id": "2GLvbRIJ7eBi"
      }
    },
    {
      "cell_type": "code",
      "source": [
        "!mkdir output\n",
        "folder = os.getcwd()+'/output'"
      ],
      "metadata": {
        "id": "wqyW9hGA7cxa"
      },
      "execution_count": null,
      "outputs": []
    },
    {
      "cell_type": "markdown",
      "metadata": {
        "id": "CeZ1s8oJymtq"
      },
      "source": [
        "Identify the Reach ID (Refer to the section \"To Begin\").  \n",
        "The Reach ID can be changed here.\n"
      ]
    },
    {
      "cell_type": "code",
      "source": [
        "reach_id=5512664"
      ],
      "metadata": {
        "id": "5px36FkUTHMv"
      },
      "execution_count": null,
      "outputs": []
    },
    {
      "cell_type": "markdown",
      "source": [
        "Setup Dask.distributed the [Easy Way](https://distributed.dask.org/en/stable/quickstart.html#setup-dask-distributed-the-easy-way)"
      ],
      "metadata": {
        "id": "lYIt306tchM_"
      }
    },
    {
      "cell_type": "code",
      "execution_count": null,
      "metadata": {
        "id": "eXtRjvIbBCSo"
      },
      "outputs": [],
      "source": [
        "from dask.distributed import Client, progress\n",
        "client = Client()\n",
        "client"
      ]
    },
    {
      "cell_type": "markdown",
      "source": [
        "Point to the AWS CLI (Amazon Web Services Command Line Interface) where the data is storred in Zarr format."
      ],
      "metadata": {
        "id": "93Gf5NwOhSmj"
      }
    },
    {
      "cell_type": "code",
      "execution_count": null,
      "metadata": {
        "id": "3QVoBf1QBEPq"
      },
      "outputs": [],
      "source": [
        "url = 's3://noaa-nwm-retrospective-2-1-zarr-pds/chrtout.zarr'"
      ]
    },
    {
      "cell_type": "markdown",
      "source": [
        "Print the [CPU Time and Wall Time](https://ipython.readthedocs.io/en/stable/interactive/magics.html?highlight=%25time#magic-time)  \n",
        "Load and decode a dataset from the Zarr [store](https://docs.xarray.dev/en/stable/generated/xarray.open_zarr.html)  \n",
        "Usually takes about 5 seconds"
      ],
      "metadata": {
        "id": "Hq4DOAbfhb_6"
      }
    },
    {
      "cell_type": "code",
      "execution_count": null,
      "metadata": {
        "id": "RWcdPpq8BGm8"
      },
      "outputs": [],
      "source": [
        "%%time\n",
        "nwm_ds_hourly = xr.open_zarr(fsspec.get_mapper(url, anon=True), consolidated=True)"
      ]
    },
    {
      "cell_type": "markdown",
      "source": [
        "Print the dataset description"
      ],
      "metadata": {
        "id": "EWK3glQSh9mJ"
      }
    },
    {
      "cell_type": "code",
      "execution_count": null,
      "metadata": {
        "id": "FLCa6yH6BPG8"
      },
      "outputs": [],
      "source": [
        "nwm_ds_hourly"
      ]
    },
    {
      "cell_type": "markdown",
      "source": [
        "Identify what reach or reaches for which the NWM streamflows will be downloaded.\n",
        "\n",
        "For multiple reaches, use the syntax \"reaches = np.sort(np.array([x1,x2,...]))\"."
      ],
      "metadata": {
        "id": "Jl77NG1fjrfO"
      }
    },
    {
      "cell_type": "code",
      "execution_count": null,
      "metadata": {
        "id": "h4nr4CYzBSwM"
      },
      "outputs": [],
      "source": [
        "reach = np.sort(np.array([reach_id]))"
      ]
    },
    {
      "cell_type": "markdown",
      "source": [
        "Print the wall time.  \n",
        "Extract the flow data for the specified reach and  time period.  \n",
        "Typically takes about 3 mins."
      ],
      "metadata": {
        "id": "DY4AALBGkGgw"
      }
    },
    {
      "cell_type": "code",
      "source": [
        "%%time\n",
        "nwm_ds_hourly_subset = nwm_ds_hourly.streamflow.sel(feature_id=reach).compute()"
      ],
      "metadata": {
        "id": "9zwQCUq1uGFy"
      },
      "execution_count": null,
      "outputs": []
    },
    {
      "cell_type": "code",
      "source": [
        "nwm_ds_hourly_subset"
      ],
      "metadata": {
        "id": "Yc-V2vEips6D"
      },
      "execution_count": null,
      "outputs": []
    },
    {
      "cell_type": "markdown",
      "source": [
        "Convert the dataset array into a dataframe."
      ],
      "metadata": {
        "id": "TgJriZFSmVqP"
      }
    },
    {
      "cell_type": "code",
      "execution_count": null,
      "metadata": {
        "id": "7FMNxQwoBWy7"
      },
      "outputs": [],
      "source": [
        "raw_nwm_df= nwm_ds_hourly_subset.to_pandas()"
      ]
    },
    {
      "cell_type": "code",
      "source": [
        "raw_nwm_df"
      ],
      "metadata": {
        "id": "hl2FCxXlONpo"
      },
      "execution_count": null,
      "outputs": []
    },
    {
      "cell_type": "markdown",
      "source": [
        "Create Hydrograph for the Raw NWM data (hourly)"
      ],
      "metadata": {
        "id": "37bRNrI0m5rd"
      }
    },
    {
      "cell_type": "code",
      "source": [
        "raw_nwm_df.plot(figsize=(14,5), title= \"NWM Reach \"+ str(reach_id), xlabel=\"Time\", ylabel=\"Discharge (cms)\");"
      ],
      "metadata": {
        "id": "A4lv-rF9kcXa"
      },
      "execution_count": null,
      "outputs": []
    },
    {
      "cell_type": "markdown",
      "source": [
        "Create a new index column"
      ],
      "metadata": {
        "id": "wygTi6bAnhE4"
      }
    },
    {
      "cell_type": "code",
      "source": [
        "nwm_df=raw_nwm_df.reset_index()"
      ],
      "metadata": {
        "id": "lMWsSx8EOlEc"
      },
      "execution_count": null,
      "outputs": []
    },
    {
      "cell_type": "markdown",
      "source": [
        "Update the column names"
      ],
      "metadata": {
        "id": "OFjsvfChYSZq"
      }
    },
    {
      "cell_type": "code",
      "source": [
        "nwm_df.rename({'time': 'Date_Time', reach_id: 'NWM_cms'}, axis=1, inplace=True)"
      ],
      "metadata": {
        "id": "HoQYFtCNooCq"
      },
      "execution_count": null,
      "outputs": []
    },
    {
      "cell_type": "markdown",
      "source": [
        "Calulate discharge in CFS\n",
        "\n"
      ],
      "metadata": {
        "id": "6hjOOmT0ZBZs"
      }
    },
    {
      "cell_type": "code",
      "source": [
        "nwm_df[\"NWM_cfs\"] = nwm_df[\"NWM_cms\"]*35.314666212661"
      ],
      "metadata": {
        "id": "4X20nyLJTKTW"
      },
      "execution_count": null,
      "outputs": []
    },
    {
      "cell_type": "code",
      "source": [
        "nwm_df['Date_Time'] = nwm_df['Date_Time'].dt.tz_localize('UTC').dt.tz_convert('America/Chicago').dt.tz_localize(None)"
      ],
      "metadata": {
        "id": "ntbz-6BEeFFg"
      },
      "execution_count": null,
      "outputs": []
    },
    {
      "cell_type": "markdown",
      "source": [
        "Export wrangled NWM dataframe to a csv file"
      ],
      "metadata": {
        "id": "vY123Nn7DJUG"
      }
    },
    {
      "cell_type": "code",
      "source": [
        "nwm_df"
      ],
      "metadata": {
        "id": "1v1gnwaUaUvE"
      },
      "execution_count": null,
      "outputs": []
    },
    {
      "cell_type": "code",
      "execution_count": null,
      "metadata": {
        "id": "rqVdDSjeL-Xb"
      },
      "outputs": [],
      "source": [
        "nwm_df.to_csv(folder +'/NWM_Data_for_' + str(reach_id)  + '.csv')"
      ]
    },
    {
      "cell_type": "markdown",
      "source": [
        "Export the table"
      ],
      "metadata": {
        "id": "X2HnLrlg2VY2"
      }
    },
    {
      "cell_type": "markdown",
      "source": [
        "Create the Plotly graph  \n",
        "Typically takes about 10 seconds"
      ],
      "metadata": {
        "id": "K7i0HPhjmxA1"
      }
    },
    {
      "cell_type": "code",
      "source": [
        "flow_fig = go.Figure()\n",
        "\n",
        "#flow_fig.add_trace(go.Scatter(x=nwm_df['Date_Time'], y=nwm_usgs_df['USGS_cfs'], name=\"USGS Station \"+ str(gage_id),\n",
        "            #             line = dict(color='blue', width=1.5 )))\n",
        "flow_fig.add_trace(go.Scatter(x=nwm_df['Date_Time'], y=nwm_df['NWM_cfs'], name=\"NWM Reach \"+str(reach_id),\n",
        "                         line = dict(color='blue', width=1.5)))\n",
        "\n",
        "flow_fig.update_layout(title=\"Daily streamflow at \" +str(reach_id), \n",
        "                  yaxis_title='Discharge (cfs)')\n",
        "\n",
        "flow_fig.show()"
      ],
      "metadata": {
        "id": "YuBYVG6_kGJW"
      },
      "execution_count": null,
      "outputs": []
    }
  ],
  "metadata": {
    "colab": {
      "provenance": [],
      "include_colab_link": true
    },
    "kernelspec": {
      "display_name": "Python 3 (ipykernel)",
      "language": "python",
      "name": "python3"
    },
    "language_info": {
      "codemirror_mode": {
        "name": "ipython",
        "version": 3
      },
      "file_extension": ".py",
      "mimetype": "text/x-python",
      "name": "python",
      "nbconvert_exporter": "python",
      "pygments_lexer": "ipython3",
      "version": "3.9.12"
    }
  },
  "nbformat": 4,
  "nbformat_minor": 0
}
